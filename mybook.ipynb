{
 "cells": [
  {
   "cell_type": "code",
   "execution_count": null,
   "metadata": {},
   "outputs": [],
   "source": [
    "print('Hello')"
   ]
  },
  {
   "cell_type": "code",
   "execution_count": null,
   "metadata": {},
   "outputs": [],
   "source": [
    "print('Hello, World')"
   ]
  },
  {
   "cell_type": "code",
   "execution_count": 1,
   "metadata": {},
   "outputs": [
    {
     "name": "stdout",
     "output_type": "stream",
     "text": [
      "2023-11-23 22:36:19.864741\n"
     ]
    }
   ],
   "source": [
    "import datetime\n",
    "print(datetime.datetime.now())"
   ]
  },
  {
   "cell_type": "code",
   "execution_count": 4,
   "metadata": {},
   "outputs": [
    {
     "data": {
      "text/plain": [
       "'@prefix ns1: <http://example.org/#> .\\n\\nns1:batman ns1:knows ns1:spiderman,\\n        ns1:superman .\\n\\nns1:spiderman ns1:knows ns1:batman .\\n\\n'"
      ]
     },
     "execution_count": 4,
     "metadata": {},
     "output_type": "execute_result"
    }
   ],
   "source": [
    "from rdflib import Graph, URIRef\n",
    "\n",
    "g = Graph()\n",
    "\n",
    "g.add((URIRef(\"http://example.org/#spiderman\"), URIRef(\"http://example.org/#knows\"), URIRef(\"http://example.org/#batman\")))\n",
    "g.add((URIRef(\"http://example.org/#batman\"), URIRef(\"http://example.org/#knows\"), URIRef(\"http://example.org/#spiderman\")))\n",
    "g.add((URIRef(\"http://example.org/#batman\"), URIRef(\"http://example.org/#knows\"), URIRef(\"http://example.org/#superman\")))\n",
    "\n",
    "g.serialize(format='turtle')"
   ]
  },
  {
   "cell_type": "code",
   "execution_count": null,
   "metadata": {},
   "outputs": [],
   "source": []
  }
 ],
 "metadata": {
  "kernelspec": {
   "display_name": "demo-CDvpua19-py3.12",
   "language": "python",
   "name": "python3"
  },
  "language_info": {
   "codemirror_mode": {
    "name": "ipython",
    "version": 3
   },
   "file_extension": ".py",
   "mimetype": "text/x-python",
   "name": "python",
   "nbconvert_exporter": "python",
   "pygments_lexer": "ipython3",
   "version": "3.12.0"
  }
 },
 "nbformat": 4,
 "nbformat_minor": 2
}
